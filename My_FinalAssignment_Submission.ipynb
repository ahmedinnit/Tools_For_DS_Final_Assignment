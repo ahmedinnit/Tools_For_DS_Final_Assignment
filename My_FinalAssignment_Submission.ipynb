{
 "cells": [
  {
   "cell_type": "markdown",
   "id": "d952c40a",
   "metadata": {},
   "source": [
    "<h1 style=\"text-align: center;\">Exercise 2: Tools for Data Science</h1>"
   ]
  },
  {
   "cell_type": "markdown",
   "id": "9e41417c",
   "metadata": {},
   "source": [
    "<h2>Exercise 3: Introduction</h2>\n",
    "<p>Data science is a rapidly growing and transformative field that involves extracting insights and knowledge from vast and complex datasets. As the volume of data continues to expand, so does the need for powerful and efficient tools to analyze, process, and visualize information. These tools are essential for data scientists, analysts, and researchers to make sense of the data, uncover patterns, and derive valuable insights that drive informed decision-making.</p>"
   ]
  },
  {
   "cell_type": "markdown",
   "id": "524d9b2d",
   "metadata": {},
   "source": [
    "<h2>Exercise 10: Objectives</h2>\n",
    "<pre>1) To identify the languages used for Data Science\n",
    "2) To list the libraries used in Data Science\n",
    "3) To show the use of Python</pre>"
   ]
  },
  {
   "cell_type": "markdown",
   "id": "ddc8fbf6",
   "metadata": {},
   "source": [
    "<h2>Exercise 4: List of Data Science Languages</h2>\n",
    "<pre>1) Python\n",
    "2) SQL\n",
    "3) R\n",
    "4) Scala \n",
    "5) Julia\n",
    "6) C/C++\n",
    "7) MATLAB"
   ]
  },
  {
   "cell_type": "markdown",
   "id": "ec1d3cdb",
   "metadata": {},
   "source": [
    "<h2>Exercise 5: List of Data Science Libraries</h2>\n",
    "<pre>1) Matplotlib\n",
    "2) Pandas\n",
    "3) NumPy\n",
    "4) SciPy\n",
    "5) Scikit-learn\n",
    "6) PyTorch\n",
    "7) TensorFlow\n",
    "8) ggplot"
   ]
  },
  {
   "cell_type": "markdown",
   "id": "ee6e8126",
   "metadata": {},
   "source": [
    " <h2>Exercise 6: Table of Data Science Tools</h2>\n",
    " <table>\n",
    "        <tr>\n",
    "            <th>Category</th>\n",
    "            <th>Tool</th>\n",
    "            <th>Description</th>\n",
    "        </tr>\n",
    "        <tr>\n",
    "            <td rowspan=\"6\">Programming Languages</td>\n",
    "            <td>Python</td>\n",
    "            <td>General-purpose language with extensive data science libraries.</td>\n",
    "        </tr>\n",
    "        <tr>\n",
    "            <td>R</td>\n",
    "            <td>Specialized language for statistical computing and data analysis.</td>\n",
    "        </tr>\n",
    "        <tr>\n",
    "            <td>Julia</td>\n",
    "            <td>High-performance language for scientific computing.</td>\n",
    "        </tr>\n",
    "        <tr>\n",
    "            <td>SQL</td>\n",
    "            <td>Language for querying and managing databases.</td>\n",
    "        </tr>\n",
    "        <tr>\n",
    "            <td>Scala</td>\n",
    "            <td>General-purpose language used with Apache Spark.</td>\n",
    "        </tr>\n",
    "        <tr>\n",
    "            <td>Java</td>\n",
    "            <td>General-purpose language used in enterprise applications.</td>\n",
    "        </tr>\n",
    "        <tr>\n",
    "            <td rowspan=\"15\">Libraries</td>\n",
    "            <td>NumPy</td>\n",
    "            <td>Library for numerical computing in Python.</td>\n",
    "        </tr>\n",
    "        <tr>\n",
    "            <td>Pandas</td>\n",
    "            <td>Data manipulation and analysis library in Python.</td>\n",
    "        </tr>\n",
    "        <tr>\n",
    "            <td>Matplotlib</td>\n",
    "            <td>Plotting library for Python.</td>\n",
    "        </tr>\n",
    "        <tr>\n",
    "            <td>Seaborn</td>\n",
    "            <td>High-level data visualization library based on Matplotlib.</td>\n",
    "        </tr>\n",
    "        <tr>\n",
    "            <td>scikit-learn</td>\n",
    "            <td>Comprehensive machine learning library for Python.</td>\n",
    "        </tr>\n",
    "        <tr>\n",
    "            <td>TensorFlow</td>\n",
    "            <td>Deep learning library by Google for building neural networks.</td>\n",
    "        </tr>\n",
    "        <tr>\n",
    "            <td>Keras</td>\n",
    "            <td>High-level neural network API, often used with TensorFlow.</td>\n",
    "        </tr>\n",
    "        <tr>\n",
    "            <td>PyTorch</td>\n",
    "            <td>Deep learning library known for its dynamic computation graph.</td>\n",
    "        </tr>\n",
    "        <tr>\n",
    "            <td>Platforms</td>\n",
    "            <td>Jupyter Notebook</td>\n",
    "            <td>Interactive computing environment for data analysis.</td>\n",
    "        </tr>\n",
    "        <tr>\n",
    "            <td>Apache Spark</td>\n",
    "            <td>Distributed data processing framework.</td>\n",
    "        </tr>\n",
    "        <tr>\n",
    "            <td>Hadoop</td>\n",
    "            <td>Distributed storage and processing system for big data.</td>\n",
    "        </tr>\n",
    "        <tr>\n",
    "            <td>Databricks</td>\n",
    "            <td>Unified data analytics platform built on Apache Spark.</td>\n",
    "        </tr>\n",
    "        <tr>\n",
    "            <td>Tableau</td>\n",
    "            <td>Data visualization and business intelligence platform.</td>\n",
    "        </tr>\n",
    "        <tr>\n",
    "            <td>Power BI</td>\n",
    "            <td>Business analytics service by Microsoft.</td>\n",
    "        </tr>\n",
    "        <tr>\n",
    "            <td>KNIME</td>\n",
    "            <td>Open-source platform for data analytics and integration.</td>\n",
    "        </tr>\n",
    "        <tr>\n",
    "            <td>RapidMiner</td>\n",
    "            <td>Data science platform for data prep, modeling, and deployment.</td>\n",
    "        </tr>\n",
    "        <tr>\n",
    "            <td>IBM Watson Studio</td>\n",
    "            <td>Cloud-based data science platform by IBM.</td>\n",
    "        </tr>\n",
    "        <tr>\n",
    "            <td>Google Colab</td>\n",
    "            <td>Cloud-based Jupyter notebooks with GPU support.</td>\n",
    "        </tr>\n",
    "    </table>"
   ]
  },
  {
   "cell_type": "markdown",
   "id": "5d6d4687",
   "metadata": {},
   "source": [
    "<h2>Exercise 7: Arithmetic Expressions</h2>\n",
    "<pre>For Addition, '+' operator is used between two operands.\n",
    "For Subtraction, '-' operator is used between two operands.  \n",
    "For Multiplication, '*' operator is used between two operands.  \n",
    "For Division, '/' operator is used between two operands.  \n",
    "For Power, '**' is used.</pre>"
   ]
  },
  {
   "cell_type": "markdown",
   "id": "92edd176",
   "metadata": {},
   "source": [
    "<h2>Exercise 8: How to Multply and Add Numbers</h2>"
   ]
  },
  {
   "cell_type": "code",
   "execution_count": 5,
   "id": "d12dde75",
   "metadata": {},
   "outputs": [
    {
     "name": "stdout",
     "output_type": "stream",
     "text": [
      "-5\n",
      "5\n",
      "0\n"
     ]
    }
   ],
   "source": [
    "a = 5\n",
    "b = 10\n",
    "\n",
    "print(a-b)\n",
    "print(b-a)\n",
    "\n",
    "c = a - b\n",
    "c += a\n",
    "print(c*b)"
   ]
  },
  {
   "cell_type": "markdown",
   "id": "ff17c864",
   "metadata": {},
   "source": [
    "<h2>Exercise 9: Convert Minutes to Hours</h2>"
   ]
  },
  {
   "cell_type": "code",
   "execution_count": 11,
   "id": "d8842cc9",
   "metadata": {},
   "outputs": [
    {
     "name": "stdout",
     "output_type": "stream",
     "text": [
      "Enter minutes: 150\n",
      "Hours:  2.5\n"
     ]
    }
   ],
   "source": [
    "mins = int(input(\"Enter minutes: \"))\n",
    "\n",
    "hour = mins / 60\n",
    "print(\"Hours: \", hour)"
   ]
  },
  {
   "cell_type": "markdown",
   "id": "939d33ab",
   "metadata": {},
   "source": [
    "<h2>Author Name</h2>\n",
    "<p>Ahmed Ali</p>"
   ]
  }
 ],
 "metadata": {
  "kernelspec": {
   "display_name": "Python 3 (ipykernel)",
   "language": "python",
   "name": "python3"
  },
  "language_info": {
   "codemirror_mode": {
    "name": "ipython",
    "version": 3
   },
   "file_extension": ".py",
   "mimetype": "text/x-python",
   "name": "python",
   "nbconvert_exporter": "python",
   "pygments_lexer": "ipython3",
   "version": "3.11.4"
  }
 },
 "nbformat": 4,
 "nbformat_minor": 5
}
