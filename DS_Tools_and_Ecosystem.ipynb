{
 "cells": [
  {
   "cell_type": "markdown",
   "id": "d952c40a",
   "metadata": {},
   "source": [
    "<h1 style=\"text-align: center;\">Data Science Tools and Ecosystem</h1>"
   ]
  },
  {
   "cell_type": "markdown",
   "id": "9e41417c",
   "metadata": {},
   "source": [
    "<h2>Introduction</h2>\n",
    "<p>In this notebook, Data Science Tools and Ecosystem are summarized.</p>"
   ]
  },
  {
   "cell_type": "markdown",
   "id": "524d9b2d",
   "metadata": {},
   "source": [
    "<h2>Objectives:</h2>\n",
    "<ul>\n",
    "    <li>Add comments to code cells</li>\n",
    "    <li>Create markdown cells</li>\n",
    "    <li>Add ordered and unordered lists to markdown cells</li>\n",
    "    <li>Format content of markdown cells with heading styles</li>\n",
    "</ul>"
   ]
  },
  {
   "cell_type": "markdown",
   "id": "ddc8fbf6",
   "metadata": {},
   "source": [
    "<h2>List of Data Science Languages</h2>\n",
    "<p>Some of the popular languages that Data Scientists use are:</p>\n",
    "<ol>\n",
    "    <li>Python</li>\n",
    "    <li>SQL</li>\n",
    "    <li>R</li>\n",
    "    <li>Scala</li>\n",
    "    <li>Julia</li>\n",
    "    <li>C/C++</li>\n",
    "</ol>"
   ]
  },
  {
   "cell_type": "markdown",
   "id": "ec1d3cdb",
   "metadata": {},
   "source": [
    "<h2>List of Data Science Libraries</h2>\n",
    "<p>Some of the commonly used libraries used by Data Scientists include:</p>\n",
    "\n",
    "<ol>\n",
    "    <li>Pandas</li>\n",
    "    <li>NumPy</li>\n",
    "    <li>Matplotlib</li>\n",
    "    <li>SciPy</li>\n",
    "    <li>TensorFlow</li>\n",
    "    <li>Scikit-learn</li>\n",
    "    <li>PyTorch</li>\n",
    "    <li>ggplot2</li>\n",
    "</ol>\n"
   ]
  },
  {
   "cell_type": "markdown",
   "id": "ee6e8126",
   "metadata": {},
   "source": [
    " <h2>Table of Data Science Tools</h2>\n",
    " <table>\n",
    "        <tr>\n",
    "            <th>Data Science Tools</th>\n",
    "        </tr>\n",
    "        <tr>\n",
    "            <td>VS Code</td>\n",
    "        </tr>\n",
    "        <tr>\n",
    "            <td>Jupyter Notebook</td>\n",
    "        </tr>\n",
    "        <tr>\n",
    "            <td>Anaconda</td>\n",
    "        </tr>\n",
    "        <tr>\n",
    "            <td>JupyterLab</td>\n",
    "        </tr>\n",
    "        <tr>\n",
    "            <td>Spyder</td>\n",
    "        </tr>\n",
    "   \n",
    "</table>"
   ]
  },
  {
   "cell_type": "markdown",
   "id": "5d6d4687",
   "metadata": {},
   "source": [
    "<h2>Arithmetic Expressions</h2>\n",
    "    <p>Below are a few examples of evaluating arithmetic expression in Python</p>"
   ]
  },
  {
   "cell_type": "code",
   "execution_count": 1,
   "id": "d12dde75",
   "metadata": {},
   "outputs": [
    {
     "data": {
      "text/plain": [
       "17"
      ]
     },
     "execution_count": 1,
     "metadata": {},
     "output_type": "execute_result"
    }
   ],
   "source": [
    "#  An arithmetic expression to multiply and then add integers\n",
    "(3*4)+5"
   ]
  },
  {
   "cell_type": "code",
   "execution_count": 2,
   "id": "d8842cc9",
   "metadata": {},
   "outputs": [
    {
     "data": {
      "text/plain": [
       "3"
      ]
     },
     "execution_count": 2,
     "metadata": {},
     "output_type": "execute_result"
    }
   ],
   "source": [
    "# This will convert 200 minutes to hours by dividing it by 60\n",
    "200//60"
   ]
  },
  {
   "cell_type": "markdown",
   "id": "939d33ab",
   "metadata": {},
   "source": [
    "<h2>Author Name</h2>\n",
    "<p>Ahmed Ali</p>"
   ]
  }
 ],
 "metadata": {
  "kernelspec": {
   "display_name": "Python 3 (ipykernel)",
   "language": "python",
   "name": "python3"
  },
  "language_info": {
   "codemirror_mode": {
    "name": "ipython",
    "version": 3
   },
   "file_extension": ".py",
   "mimetype": "text/x-python",
   "name": "python",
   "nbconvert_exporter": "python",
   "pygments_lexer": "ipython3",
   "version": "3.11.4"
  }
 },
 "nbformat": 4,
 "nbformat_minor": 5
}
